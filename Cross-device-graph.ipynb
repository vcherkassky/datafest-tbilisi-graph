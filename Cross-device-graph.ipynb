{
 "cells": [
  {
   "cell_type": "markdown",
   "metadata": {},
   "source": [
    "# Cross-Device Graph calculation\n",
    "\n",
    "This notebook can be used for calculating a Cross-Device Graph.\n",
    "\n",
    "## Dependencies\n",
    "\n",
    "The notebook requires \n",
    "1. Python, Jupyter, Spark and Apache Toree to be installed in order to run\n",
    "1. A folder `anonymised-tracking-event-data`, containing ids to compute the graph from in the same directory as this notebook\n",
    "\n",
    "## Installation\n",
    "\n",
    "### 1. Install Python\n",
    "\n",
    "This guid will cover MacOS installation, for any guidance for your OS, please check with [www.python.org](https://www.python.org/).\n",
    "\n",
    "```\n",
    "brew install python\n",
    "```\n",
    "\n",
    "### 2. Install Spark\n",
    "\n",
    "This guid will cover MacOS installation, for any guidance for your OS, please check with [spark.apache.org](https://spark.apache.org/).\n",
    "\n",
    "```\n",
    "brew install apache-spark\n",
    "```\n",
    "\n",
    "Notice the installation path, it will be used further:\n",
    "```\n",
    "brew list apache-spark\n",
    "```\n",
    "On my machine it's (most of the output is replaced with \"...\")\n",
    "```\n",
    "/usr/local/Cellar/apache-spark/2.2.0/bin/find-spark-home\n",
    "...\n",
    "/usr/local/Cellar/apache-spark/2.2.0/libexec/jars/ (209 files)\n",
    "...\n",
    "```\n",
    "\n",
    "### 3. Install Jupyter and Apache Toree\n",
    "\n",
    "Use the following commands to install Jupyter and iPython kernel. iPython kernel is optional for this notebook, but a must for people who prefer Python to Scala.\n",
    "```\n",
    "pip install --upgrade jupyter\n",
    "pip install --upgrade ipykernel\n",
    "```\n",
    "\n",
    "Use the following commands to install Apache Toree. Please make sure, that the `SPARK_HOME` path corresponds to the one reported earlier by `brew list apache-spark` or your spark installation directory if you are not running a MacOS.\n",
    "\n",
    "```\n",
    "pip install --upgrade https://dist.apache.org/repos/dist/dev/incubator/toree/0.2.0/snapshots/dev1/toree-pip/toree-0.2.0.dev1.tar.gz\n",
    "```\n",
    "```\n",
    "SPARK_HOME=/usr/local/Cellar/apache-spark/2.2.0/libexec jupyter toree install --spark_opts='--conf \"spark.jars.packages=graphframes:graphframes:0.5.0-spark2.1-s_2.11,org.knowm.xchart:xchart:3.5.0\" --conf \"spark.sql.parquet.binaryAsString=true\" --conf \"spark.executor.extraJavaOptions=-XX:+UseG1GC\" --driver-memory 4g' --ToreeInstall.user=True\n",
    "```\n",
    "\n",
    "Note that the command above sets the following:\n",
    " * Toree will install GraphFrames Spark package as well as XChart charting library for you to be accessible in Toree notebooks\n",
    " * A G1 garbage collector is chosen – you can remove that setting if you don't want that\n",
    " * Spark's `--driver-memory` is set to be **4GB**\n",
    "\n",
    "## Running\n",
    "\n",
    "As long as everything is ready, just start the Jupyter and open this notebook. \n",
    "```\n",
    "jupyter notebook\n",
    "```\n",
    "\n",
    "Go to [localhost:8888](localhost:8888) and navigate to this notebook. \n",
    "\n",
    "Have fun experimenting!"
   ]
  },
  {
   "cell_type": "markdown",
   "metadata": {},
   "source": [
    "# Code starts below this line\n",
    "---"
   ]
  },
  {
   "cell_type": "markdown",
   "metadata": {},
   "source": [
    "The following section contains a bunch of useful Spark imports"
   ]
  },
  {
   "cell_type": "code",
   "execution_count": 1,
   "metadata": {},
   "outputs": [],
   "source": [
    "import org.apache.spark.sql._\n",
    "import org.apache.spark.sql.functions._\n",
    "import org.apache.spark.sql.expressions._"
   ]
  },
  {
   "cell_type": "markdown",
   "metadata": {},
   "source": [
    "The following code contains XChart stuff:\n",
    " * imports\n",
    " * chart colors\n",
    " * Scala-to-Java type conversions\n",
    " * a method `displayChart`, which embeds any XChart into Jupyter notebook as a Base64-encoded image"
   ]
  },
  {
   "cell_type": "code",
   "execution_count": 2,
   "metadata": {},
   "outputs": [],
   "source": [
    "import org.knowm.xchart._\n",
    "import org.knowm.xchart.style._\n",
    "import org.knowm.xchart.style.colors._\n",
    "import scala.collection.JavaConversions._\n",
    "import scala.collection.mutable\n",
    "\n",
    "def ggPlot2Colors = Array(\"#E41A1C\", \"#377EB8\", \"#4DAF4A\", \"#984EA3\", \"#FF7F00\", \"#FFFF33\", \n",
    "                          \"#A65628\", \"#F781BF\", \"#999999\").map(hex => java.awt.Color.decode(hex))\n",
    "\n",
    "def javaList[T](values: T*): java.util.List[T] = {\n",
    "  val buffer = mutable.ListBuffer(values: _*)\n",
    "  val list: java.util.List[T] = buffer\n",
    "  list\n",
    "}\n",
    "\n",
    "def javaDoubleList(nums: Double*): java.util.List[java.lang.Double] = {\n",
    "  val buffer = mutable.ListBuffer(nums: _*)\n",
    "  val list: java.util.List[Double] = buffer\n",
    "  list.map(v => new java.lang.Double(v.doubleValue))\n",
    "}\n",
    "\n",
    "def javaLongList(nums: Long*): java.util.List[java.lang.Long] = {\n",
    "  val buffer = mutable.ListBuffer(nums: _*)\n",
    "  val list: java.util.List[Long] = buffer\n",
    "  list.map(v => new java.lang.Long(v.longValue))\n",
    "}\n",
    "\n",
    "import java.util.Base64\n",
    "\n",
    "def displayChart(chart: internal.chartpart.Chart[_ <: style.Styler, _ <: internal.series.Series]) {\n",
    "    val imageBytes = BitmapEncoder.getBitmapBytes(chart, BitmapEncoder.BitmapFormat.PNG)\n",
    "    val imageBase64 = Base64.getEncoder().encodeToString(imageBytes)\n",
    "    kernel.display.content(\"image/png\", imageBase64)\n",
    "}"
   ]
  },
  {
   "cell_type": "markdown",
   "metadata": {},
   "source": [
    "# Reading tracking data\n",
    "\n",
    "The following code just reads tracking data and puts it into a Spark storage (by default, it's `MEMORY_AND_DISK`)."
   ]
  },
  {
   "cell_type": "code",
   "execution_count": 40,
   "metadata": {},
   "outputs": [
    {
     "name": "stdout",
     "output_type": "stream",
     "text": [
      "\n",
      "Tracking data schema\n",
      "root\n",
      " |-- timestamp: string (nullable = true)\n",
      " |-- cookie_id: string (nullable = true)\n",
      " |-- customer_id: string (nullable = true)\n",
      " |-- device_id: string (nullable = true)\n",
      " |-- date: integer (nullable = true)\n",
      "\n",
      "\n",
      "First 5 rows from tracking data\n",
      "+----------+-----------------+------------------+---------+--------+\n",
      "|timestamp |cookie_id        |customer_id       |device_id|date    |\n",
      "+----------+-----------------+------------------+---------+--------+\n",
      "|1509793200|cookie_id_1534954|customer_id_772842|null     |20171105|\n",
      "|1509793209|cookie_id_1072125|null              |null     |20171105|\n",
      "|1509793212|cookie_id_2277577|customer_id_43523 |null     |20171105|\n",
      "|1509793214|cookie_id_454817 |customer_id_801126|null     |20171105|\n",
      "|1509793214|cookie_id_2125957|customer_id_437070|null     |20171105|\n",
      "+----------+-----------------+------------------+---------+--------+\n",
      "only showing top 5 rows\n",
      "\n"
     ]
    }
   ],
   "source": [
    "val tracking = spark.read.parquet(\"./anonymised-tracking-event-data\")\n",
    "println(\"\\nTracking data schema\")\n",
    "tracking.printSchema\n",
    "println(\"\\nFirst 5 rows from tracking data\")\n",
    "tracking.show(5, false)"
   ]
  },
  {
   "cell_type": "markdown",
   "metadata": {},
   "source": [
    "Let's check out the id counts"
   ]
  },
  {
   "cell_type": "code",
   "execution_count": 55,
   "metadata": {
    "scrolled": false
   },
   "outputs": [
    {
     "data": {
      "image/png": "[encoded data removed]"
     },
     "metadata": {},
     "output_type": "display_data"
    }
   ],
   "source": [
    "{\n",
    "    import tracking.sqlContext.implicits._\n",
    "    \n",
    "    val counts = tracking\n",
    "        .select(count(\"cookie_id\") / count(\"*\"),\n",
    "                count(\"customer_id\") / count(\"*\"),\n",
    "                count(\"device_id\") / count(\"*\"))\n",
    "        .map { case Row(cookieIdFrac: Double, customerIdFrac: Double, deviceIdFrac: Double) => \n",
    "            Seq(cookieIdFrac, customerIdFrac, deviceIdFrac)\n",
    "        }\n",
    "        .head\n",
    "    \n",
    "    val labels = Seq(\"cookie_id\", \"customer_id\", \"device_id\")\n",
    "    displayChart {\n",
    "        import java.awt.Font\n",
    "        \n",
    "        val chart = new CategoryChartBuilder()\n",
    "            .width(1000).height(500)\n",
    "            .title(\"Tracking data ID appearance in the dataset\")\n",
    "            .xAxisTitle(\"ID type\")\n",
    "            .yAxisTitle(\"How many rows contain this ID\")\n",
    "            .theme(style.Styler.ChartTheme.GGPlot2)\n",
    "            .build()\n",
    "        chart.getStyler.setSeriesColors(ggPlot2Colors)\n",
    "        chart.getStyler.setYAxisDecimalPattern(\"#.#%\")\n",
    "        chart.getStyler.setHasAnnotations(true)\n",
    "        chart.getStyler.setLegendVisible(false)\n",
    "        chart.getStyler.setAnnotationsFont(new Font(Font.SANS_SERIF, Font.PLAIN, 30))\n",
    "        chart.getStyler.setYAxisMax(1.05) // to prevent 100% from overlapping with the top\n",
    "        chart.addSeries(s\"ID counts\", \n",
    "            javaList(labels: _*), \n",
    "            javaDoubleList(counts: _*))\n",
    "        chart\n",
    "    }\n",
    "}"
   ]
  },
  {
   "cell_type": "markdown",
   "metadata": {},
   "source": [
    "# Computing Nodes (Vertices)"
   ]
  },
  {
   "cell_type": "code",
   "execution_count": 20,
   "metadata": {},
   "outputs": [],
   "source": [
    "val idColNames = Seq(\"cookie_id\", \"customer_id\", \"device_id\")"
   ]
  },
  {
   "cell_type": "code",
   "execution_count": 5,
   "metadata": {},
   "outputs": [
    {
     "name": "stdout",
     "output_type": "stream",
     "text": [
      "\r",
      "                                                                                \r",
      "+-----------------+---------+------------------+----------+----------+\n",
      "|id               |id_type  |number_of_sessions|first_seen|last_seen |\n",
      "+-----------------+---------+------------------+----------+----------+\n",
      "|cookie_id_1053610|cookie_id|1                 |1509667628|1509667628|\n",
      "|cookie_id_1068879|cookie_id|1                 |1510088688|1510088688|\n",
      "|cookie_id_107    |cookie_id|3                 |1509905519|1510091211|\n",
      "|cookie_id_1122006|cookie_id|1                 |1510227439|1510227439|\n",
      "|cookie_id_1163086|cookie_id|1                 |1510148579|1510148579|\n",
      "+-----------------+---------+------------------+----------+----------+\n",
      "only showing top 5 rows\n",
      "\n"
     ]
    },
    {
     "data": {
      "text/plain": [
       "3646820"
      ]
     },
     "execution_count": 5,
     "metadata": {},
     "output_type": "execute_result"
    }
   ],
   "source": [
    "val vertices = {\n",
    "    idColNames.map(idType => {\n",
    "        tracking.groupBy(col(idType).as(\"id\"),\n",
    "                         lit(idType).as(\"id_type\"))\n",
    "            .agg(count(\"timestamp\").as(\"number_of_sessions\"),\n",
    "                 min(col(\"timestamp\")).as(\"first_seen\"),\n",
    "                 max(col(\"timestamp\")).as(\"last_seen\")\n",
    "            )\n",
    "            .distinct\n",
    "    }).reduce((df1, df2) => df1.union(df2)).distinct\n",
    "}\n",
    "vertices.show(5, false)\n",
    "vertices.count"
   ]
  },
  {
   "cell_type": "markdown",
   "metadata": {},
   "source": [
    "# Computing Edges list"
   ]
  },
  {
   "cell_type": "code",
   "execution_count": 22,
   "metadata": {},
   "outputs": [
    {
     "data": {
      "text/plain": [
       "List(cookie_id, customer_id)\n",
       "List(cookie_id, device_id)\n",
       "List(customer_id, device_id)"
      ]
     },
     "execution_count": 22,
     "metadata": {},
     "output_type": "execute_result"
    }
   ],
   "source": [
    "idColNames.combinations(2).mkString(\"\\n\")"
   ]
  },
  {
   "cell_type": "code",
   "execution_count": 6,
   "metadata": {},
   "outputs": [
    {
     "name": "stdout",
     "output_type": "stream",
     "text": [
      "\r",
      "                                                                                \r",
      "+-----------------+------------------+\n",
      "|src              |dst               |\n",
      "+-----------------+------------------+\n",
      "|cookie_id_1534954|customer_id_772842|\n",
      "|cookie_id_2291928|customer_id_48667 |\n",
      "|cookie_id_1252105|customer_id_451340|\n",
      "|cookie_id_209644 |customer_id_942834|\n",
      "|cookie_id_1302869|customer_id_739661|\n",
      "+-----------------+------------------+\n",
      "only showing top 5 rows\n",
      "\n"
     ]
    },
    {
     "data": {
      "text/plain": [
       "1380713"
      ]
     },
     "execution_count": 6,
     "metadata": {},
     "output_type": "execute_result"
    }
   ],
   "source": [
    "val edges = {\n",
    "    idColNames.combinations(2).map { case Seq(srcIdType, dstIdType) => \n",
    "        tracking.filter(col(srcIdType).isNotNull && col(dstIdType).isNotNull)\n",
    "            .select(col(srcIdType).as(\"src\"),\n",
    "                    col(dstIdType).as(\"dst\"))\n",
    "            .distinct\n",
    "    }.reduce((df1, df2) => df1.union(df2))\n",
    "}\n",
    "edges.show(5, false)\n",
    "edges.count"
   ]
  },
  {
   "cell_type": "markdown",
   "metadata": {},
   "source": [
    "## Writing Vertices and Edges on disk\n",
    "\n",
    "The following code writed Vertices and Edges on disk in [Parquet](https://parquet.apache.org/) format."
   ]
  },
  {
   "cell_type": "code",
   "execution_count": 7,
   "metadata": {},
   "outputs": [],
   "source": [
    "{\n",
    "    vertices\n",
    "        .repartition(1)\n",
    "        .write.mode(SaveMode.Overwrite)\n",
    "        .parquet(\"./vertices\")\n",
    "        \n",
    "    edges\n",
    "        .repartition(1)\n",
    "        .write.mode(SaveMode.Overwrite)\n",
    "        .parquet(\"./edges\")\n",
    "}"
   ]
  },
  {
   "cell_type": "markdown",
   "metadata": {},
   "source": [
    "# Computing Connected Components\n",
    "\n",
    "The following small code computes Connected Components from the graph. \n",
    "\n",
    "**Please note, that this takes around 40 minutes to 1 hour to run on my machine**"
   ]
  },
  {
   "cell_type": "code",
   "execution_count": 8,
   "metadata": {},
   "outputs": [
    {
     "name": "stdout",
     "output_type": "stream",
     "text": [
      "\r",
      "                                                                                \r",
      "+-----------------+---------+------------------+----------+----------+---------+\n",
      "|id               |id_type  |number_of_sessions|first_seen|last_seen |component|\n",
      "+-----------------+---------+------------------+----------+----------+---------+\n",
      "|cookie_id_1004978|cookie_id|3                 |1509902034|1510149145|26       |\n",
      "|cookie_id_1005473|cookie_id|6                 |1509614560|1510085412|29       |\n",
      "|cookie_id_1086707|cookie_id|1                 |1510129583|1510129583|474      |\n",
      "|cookie_id_1174394|cookie_id|2                 |1509881210|1509887620|964      |\n",
      "|cookie_id_1298569|cookie_id|2                 |1509833202|1509833338|1677     |\n",
      "+-----------------+---------+------------------+----------+----------+---------+\n",
      "only showing top 5 rows\n",
      "\n"
     ]
    },
    {
     "data": {
      "text/plain": [
       "3646818"
      ]
     },
     "execution_count": 8,
     "metadata": {},
     "output_type": "execute_result"
    }
   ],
   "source": [
    "import org.graphframes.GraphFrame\n",
    "spark.sparkContext.setCheckpointDir(\"/tmp/spark/checkpoints/\")\n",
    "\n",
    "val connectedComponents = GraphFrame(vertices, edges).connectedComponents.run()\n",
    "connectedComponents.show(5, false)\n",
    "connectedComponents.count"
   ]
  },
  {
   "cell_type": "markdown",
   "metadata": {},
   "source": [
    "Writing connected components to disk, because it took quite long for the algorithm to run. We don't want to lose them."
   ]
  },
  {
   "cell_type": "code",
   "execution_count": 9,
   "metadata": {},
   "outputs": [],
   "source": [
    "{        \n",
    "    connectedComponents\n",
    "        .repartition(1)\n",
    "        .write.mode(SaveMode.Overwrite)\n",
    "        .parquet(\"./connected-components\")\n",
    "}"
   ]
  },
  {
   "cell_type": "markdown",
   "metadata": {},
   "source": [
    "---\n",
    "## Graph is ready and on disk above the line\n",
    "\n",
    "Now that the graph is safely in disk, we can safely stop and restart Jupyter wheneter we want.\n",
    "\n",
    "# Analysis and visualisation\n",
    "\n",
    "It's time for the analysis phase. We are going to calculate a couple of graph metrics and create CSV files for graph visualisation tools to use, e.g. Cytoscape, Gephi, etc."
   ]
  },
  {
   "cell_type": "code",
   "execution_count": 3,
   "metadata": {},
   "outputs": [],
   "source": [
    "val vertices = spark.read.parquet(\"./vertices\")\n",
    "val edges = spark.read.parquet(\"./edges\")\n",
    "val connectedComponents = spark.read.parquet(\"./connected-components\")"
   ]
  },
  {
   "cell_type": "code",
   "execution_count": 4,
   "metadata": {},
   "outputs": [
    {
     "data": {
      "text/plain": [
       "2399024"
      ]
     },
     "execution_count": 4,
     "metadata": {},
     "output_type": "execute_result"
    }
   ],
   "source": [
    "connectedComponents.select(\"component\").distinct.count"
   ]
  },
  {
   "cell_type": "code",
   "execution_count": 4,
   "metadata": {},
   "outputs": [
    {
     "name": "stdout",
     "output_type": "stream",
     "text": [
      "+------------+--------------+------------------------+--------------------------+\n",
      "|component   |component_size|total_number_of_sessions|average_number_of_sessions|\n",
      "+------------+--------------+------------------------+--------------------------+\n",
      "|10071       |64            |219                     |3.421875                  |\n",
      "|34359740932 |48            |121                     |2.5208333333333335        |\n",
      "|10131       |48            |105                     |2.1875                    |\n",
      "|8589935831  |48            |126                     |2.625                     |\n",
      "|17179885320 |45            |116                     |2.577777777777778         |\n",
      "|94489285741 |45            |120                     |2.6666666666666665        |\n",
      "|8589940775  |42            |106                     |2.5238095238095237        |\n",
      "|8589943774  |37            |87                      |2.3513513513513513        |\n",
      "|77309421506 |36            |72                      |2.0                       |\n",
      "|42949679527 |35            |90                      |2.5714285714285716        |\n",
      "|34359753964 |34            |175                     |5.147058823529412         |\n",
      "|42949680355 |34            |90                      |2.6470588235294117        |\n",
      "|68719485592 |34            |86                      |2.5294117647058822        |\n",
      "|34359750342 |34            |92                      |2.7058823529411766        |\n",
      "|1935        |33            |127                     |3.8484848484848486        |\n",
      "|120259092358|33            |84                      |2.5454545454545454        |\n",
      "|42949675372 |33            |120                     |3.6363636363636362        |\n",
      "|17179871052 |32            |80                      |2.5                       |\n",
      "|8589936123  |31            |103                     |3.3225806451612905        |\n",
      "|25769812899 |31            |62                      |2.0                       |\n",
      "+------------+--------------+------------------------+--------------------------+\n",
      "only showing top 20 rows\n",
      "\n"
     ]
    }
   ],
   "source": [
    "val componentSizes = {\n",
    "    connectedComponents\n",
    "        .groupBy(\"component\")\n",
    "        .agg(count(\"*\").as(\"component_size\"),\n",
    "             sum(\"number_of_sessions\").as(\"total_number_of_sessions\"),\n",
    "             avg(\"number_of_sessions\").as(\"average_number_of_sessions\"))\n",
    "        .orderBy(col(\"component_size\").desc)\n",
    "}\n",
    "componentSizes.show(20, false)"
   ]
  },
  {
   "cell_type": "code",
   "execution_count": 17,
   "metadata": {
    "scrolled": false
   },
   "outputs": [
    {
     "data": {
      "image/png": "[encoded data removed]"
     },
     "metadata": {},
     "output_type": "display_data"
    }
   ],
   "source": [
    "{\n",
    "    import componentSizes.sqlContext.implicits._\n",
    "    \n",
    "    val bins = Array(1, 2, 3, 4, 5, 6, 7, 8, 9, 1000)\n",
    "\n",
    "    val sizeCounts = componentSizes\n",
    "        .select(\"component_size\")\n",
    "        .map { case Row(size: Long) => size }\n",
    "        .rdd\n",
    "        .histogram(bins.map(_.toDouble))\n",
    "    \n",
    "    val avgSessionCounts = componentSizes\n",
    "        .select(col(\"average_number_of_sessions\"))\n",
    "        .map { case Row(a: Double) => a }\n",
    "        .rdd\n",
    "        .histogram(bins.map(_.toDouble))\n",
    "        \n",
    "    val labels = bins.slice(0, bins.size-2).map(_.toString) :+ (s\"${bins(bins.size-2)}+\")\n",
    "    displayChart {\n",
    "        import java.awt.Font\n",
    "        \n",
    "        val chart = new CategoryChartBuilder()\n",
    "            .width(1000).height(500)\n",
    "            .title(\"Connected Component size and avg number of sessions distribution\")\n",
    "            .xAxisTitle(\"Metric per component\")\n",
    "            .yAxisTitle(\"Count\")\n",
    "            .theme(style.Styler.ChartTheme.GGPlot2)\n",
    "            .build()\n",
    "        chart.getStyler.setSeriesColors(ggPlot2Colors)\n",
    "         chart.getStyler.setYAxisDecimalPattern(\"#.#K\")\n",
    "        chart.getStyler.setHasAnnotations(true)\n",
    "        chart.getStyler.setLegendPosition(Styler.LegendPosition.InsideNE)\n",
    "        chart.getStyler.setAnnotationsFont(new Font(Font.SANS_SERIF, Font.PLAIN, 14))\n",
    "        chart.addSeries(s\"Component Size\", \n",
    "            javaList(labels: _*), \n",
    "            javaDoubleList(sizeCounts.map(_ / 1000D): _*))\n",
    "        chart.addSeries(s\"Avg Number of Sessions\", \n",
    "            javaList(labels: _*), \n",
    "            javaDoubleList(avgSessionCounts.map(_ / 1000D): _*))\n",
    "        chart\n",
    "    }\n",
    "}"
   ]
  },
  {
   "cell_type": "markdown",
   "metadata": {},
   "source": [
    "# Sampling graph and exporting it to CSV\n",
    "\n",
    "This section is about taking samples from the graph and exporting those samples to CSV for visualisation by Cytoscape, Gephi, etc. Why sampling? Because the whole graph contains 3.5M nodes and 1.4M edges. This is too much for both Cytoscape and Gephi.\n",
    "\n",
    "## 1. Random sampling\n",
    "\n",
    "A function `randomConnectedComponents()` defined here is takes a random sample of components. It will be called after the definition is done"
   ]
  },
  {
   "cell_type": "code",
   "execution_count": null,
   "metadata": {},
   "outputs": [],
   "source": [
    "val seed = 1510660773971L // this is to make all randomisations reproducible"
   ]
  },
  {
   "cell_type": "code",
   "execution_count": null,
   "metadata": {},
   "outputs": [],
   "source": [
    "def randomConnectedComponents(seed: Long, probability: Double = 0.0002d) = {\n",
    "    val randomCcNumbers = connectedComponents\n",
    "        .select(\"component\")\n",
    "        .distinct\n",
    "        .sample(true, probability, seed)\n",
    "    \n",
    "    connectedComponents\n",
    "        .join(componentSizes, Seq(\"component\"), \"inner\")\n",
    "        .join(randomCcNumbers, Seq(\"component\"), \"inner\")\n",
    "}"
   ]
  },
  {
   "cell_type": "markdown",
   "metadata": {},
   "source": [
    "The following function will write a dataframe with mandatory columns `\"id\", \"id_type\", \"number_of_sessions\", \"component\", \"component_size\"` to a CSV file. Please note, that it will create a directory and in this directory will be the 1-partition CSV file."
   ]
  },
  {
   "cell_type": "code",
   "execution_count": null,
   "metadata": {},
   "outputs": [],
   "source": [
    "def connectedComponentsToCsv(connectedComponentsWithSize: DataFrame, edges: DataFrame, resultName: String) {\n",
    "    val n = connectedComponentsWithSize\n",
    "        .select(col(\"id\").as(\"Id\"),\n",
    "                col(\"id\").as(\"Label\"),\n",
    "                col(\"id_type\"),\n",
    "                col(\"number_of_sessions\"),\n",
    "                col(\"component\"),\n",
    "                col(\"component_size\"))\n",
    "        \n",
    "    printf(\"There are %d Nodes, here's a sample:%n\", n.count)    \n",
    "    n.show(5, false)\n",
    "        \n",
    "    n.repartition(1)\n",
    "        .write.mode(SaveMode.Overwrite)\n",
    "        .format(\"csv\")\n",
    "        .option(\"header\", true)\n",
    "        .save(s\"./$resultName-nodes.csv\")\n",
    "\n",
    "\n",
    "    val ids = connectedComponentsWithSize.select(\"id\")\n",
    "    \n",
    "    val e = edges.join(ids, ids(\"id\") === col(\"src\"), \"left_semi\")\n",
    "        .select(col(\"src\").as(\"Source\"),\n",
    "                col(\"dst\").as(\"Target\"))\n",
    "        .distinct\n",
    "        \n",
    "    printf(\"There are %d Edges, here's a sample:%n\", e.count)    \n",
    "    e.show(5, false)\n",
    "        \n",
    "    e.repartition(1)\n",
    "        .write.mode(SaveMode.Overwrite)\n",
    "        .format(\"csv\")\n",
    "        .option(\"header\", true)\n",
    "        .save(s\"./$resultName-edges.csv\")\n",
    "        \n",
    "    val nJoinE = n.join(e, n(\"Id\") === e(\"Source\"), \"left_outer\")\n",
    "    \n",
    "    printf(\"There are %d Nodes joined with Edges, here's a sample:%n\", nJoinE.count)    \n",
    "    nJoinE.show(5, false)\n",
    "    \n",
    "    nJoinE.repartition(1)\n",
    "        .write.mode(SaveMode.Overwrite)\n",
    "        .format(\"csv\")\n",
    "        .option(\"header\", true)\n",
    "        .save(s\"./$resultName-combined-nodes-and-edges.csv\")\n",
    "}"
   ]
  },
  {
   "cell_type": "markdown",
   "metadata": {},
   "source": [
    "The following code will create 5 different samples around 700 nodes each, writing to CSV for later visualisation in Cytoscape. Aparently, Cytoscape 3.5.1 has a bug in Network Analysis tool which is very useful, and I don't know what causes it – a total number of nodes or a specific connected component. So 5 different samples gives a better chance to succeed."
   ]
  },
  {
   "cell_type": "code",
   "execution_count": null,
   "metadata": {
    "scrolled": false
   },
   "outputs": [],
   "source": [
    "(1 to 5).foreach { i => \n",
    "    connectedComponentsToCsv(randomConnectedComponents(seed + i, 0.0002d), edges, s\"graph-random-cc-sample-$i\")    \n",
    "}"
   ]
  },
  {
   "cell_type": "markdown",
   "metadata": {},
   "source": [
    "## 2. Filtered sampling\n",
    "\n",
    "The following code takes a different approach than random sampling: it filters out most of the average components and leaves peculiar outliers intact – we consult the earlier `\"Connected Component size and avg session distribution\"` chart to make decisions on the parameters."
   ]
  },
  {
   "cell_type": "code",
   "execution_count": null,
   "metadata": {},
   "outputs": [],
   "source": [
    "val connectedComponentsSizeGt2SessionsGe20 = {\n",
    "    connectedComponents\n",
    "        .join(componentSizes, Seq(\"component\"), \"inner\")\n",
    "        .filter(col(\"component_size\") > 2)\n",
    "        .filter(col(\"average_number_of_sessions\") >= 20)\n",
    "}\n",
    "connectedComponentsSizeGt2SessionsGe20.count"
   ]
  },
  {
   "cell_type": "code",
   "execution_count": null,
   "metadata": {},
   "outputs": [],
   "source": [
    "connectedComponentsToCsv(connectedComponentsSizeGt2SessionsGe20, edges, \"graph-size-gt-2-sessions-ge-20\")"
   ]
  },
  {
   "cell_type": "code",
   "execution_count": null,
   "metadata": {},
   "outputs": [],
   "source": []
  }
 ],
 "metadata": {
  "kernelspec": {
   "display_name": "Apache Toree - Scala",
   "language": "scala",
   "name": "apache_toree_scala"
  },
  "language_info": {
   "file_extension": ".scala",
   "name": "scala",
   "version": "2.11.8"
  }
 },
 "nbformat": 4,
 "nbformat_minor": 2
}
